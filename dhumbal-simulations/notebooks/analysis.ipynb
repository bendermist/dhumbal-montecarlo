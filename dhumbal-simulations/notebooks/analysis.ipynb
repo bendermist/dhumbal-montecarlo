{
 "cells": [
  {
   "cell_type": "code",
   "execution_count": 1,
   "metadata": {},
   "outputs": [],
   "source": [
    "# Now you can import the Deck class\n",
    "import sys\n",
    "sys.path.append('../src')\n",
    "\n",
    "from game import Game\n",
    "from player import Player\n"
   ]
  },
  {
   "cell_type": "code",
   "execution_count": 2,
   "metadata": {},
   "outputs": [],
   "source": [
    "players = [Player('Player 1'), Player('Player 2'), Player('Player 3')]\n",
    "game = Game(players)"
   ]
  },
  {
   "cell_type": "code",
   "execution_count": 3,
   "metadata": {},
   "outputs": [
    {
     "name": "stdout",
     "output_type": "stream",
     "text": [
      "Player 1 drew card FIVE♦\n",
      "Player 2 drew card TEN♣\n",
      "Player 3 drew card EIGHT♣\n",
      "Player 1 drew card FIVE♣\n",
      "Player 2 drew card JOKER\n",
      "Player 3 drew card JOKER\n",
      "Player 1 drew card ONE♠\n",
      "Player 2 drew card JOKER\n",
      "Player 3 drew card TEN♠\n",
      "Player 1 drew card SEVEN♠\n",
      "Player 2 drew card TWO♠\n",
      "Player 3 drew card FOUR♦\n",
      "Player 1 drew card NINE♥\n",
      "Player 2 drew card FOUR♣\n",
      "Player 3 drew card JOKER\n",
      "Player 2 played cards ['TEN♣']\n",
      "Player 2 drew card SIX♣\n",
      "Player 3 played cards ['EIGHT♣']\n",
      "Player 3 drew card SEVEN♦\n",
      "Player 1 played cards ['FIVE♦']\n",
      "Player 1 drew card SEVEN♣\n",
      "Turn 1\n",
      "Player 2 played cards ['JOKER']\n",
      "Player 2 drew card NINE♣\n",
      "Player 3 played cards ['JOKER']\n",
      "Player 3 drew card TWO♣\n",
      "Player 1 played cards ['FIVE♣']\n",
      "Player 1 drew card THREE♦\n",
      "Turn 2\n",
      "Player 2 played cards ['JOKER']\n",
      "Player 2 drew card ONE♣\n",
      "Player 3 played cards ['TEN♠']\n",
      "Player 3 drew card JOKER\n",
      "Player 1 played cards ['ONE♠']\n",
      "Player 1 drew card JOKER\n",
      "Turn 3\n",
      "Player 2 played cards ['TWO♠']\n",
      "Player 2 drew card EIGHT♥\n",
      "Player 3 played cards ['FOUR♦']\n",
      "Player 3 drew card SIX♠\n",
      "Player 1 played cards ['SEVEN♠']\n",
      "Player 1 drew card EIGHT♦\n",
      "Turn 4\n",
      "Player 2 played cards ['FOUR♣']\n",
      "Player 2 drew card FIVE♠\n",
      "Player 3 played cards ['JOKER']\n",
      "Player 3 drew card ONE♥\n",
      "Player 1 played cards ['NINE♥']\n",
      "Player 1 drew card SIX♦\n",
      "Turn 5\n",
      "Player 2 played cards ['SIX♣']\n",
      "Player 2 drew card TEN♦\n",
      "Player 3 played cards ['SEVEN♦']\n",
      "Player 3 drew card JOKER\n",
      "Player 1 played cards ['SEVEN♣']\n",
      "Player 1 drew card JOKER\n",
      "Turn 6\n",
      "Player 2 played cards ['NINE♣']\n",
      "Player 2 drew card TEN♥\n",
      "Player 3 played cards ['TWO♣']\n",
      "Player 3 drew card TWO♦\n",
      "Player 1 played cards ['THREE♦']\n",
      "Player 1 drew card FIVE♥\n",
      "Turn 7\n",
      "Player 2 played cards ['ONE♣']\n",
      "Player 2 drew card THREE♣\n",
      "Player 3 played cards ['JOKER']\n",
      "Player 3 drew card SIX♥\n",
      "Player 1 played cards ['JOKER']\n",
      "Player 1 drew card FOUR♥\n",
      "Turn 8\n",
      "Player 2 played cards ['EIGHT♥']\n",
      "Player 2 drew card THREE♠\n",
      "Player 3 played cards ['SIX♠']\n",
      "Player 3 drew card NINE♦\n",
      "Player 1 played cards ['EIGHT♦']\n",
      "Player 1 drew card JOKER\n",
      "Turn 9\n",
      "Player 2 played cards ['FIVE♠']\n",
      "Player 2 drew card THREE♥\n",
      "Player 3 played cards ['ONE♥']\n",
      "Player 3 drew card TWO♥\n",
      "Player 1 played cards ['SIX♦']\n",
      "Player 1 drew card FOUR♠\n",
      "Turn 10\n",
      "Player 2 played cards ['TEN♦']\n",
      "Player 2 drew card SEVEN♥\n",
      "Player 3 played cards ['JOKER']\n",
      "Player 3 drew card EIGHT♠\n",
      "Player 1 played cards ['JOKER']\n",
      "Player 1 drew card ONE♦\n",
      "Turn 11\n",
      "Player 2 played cards ['TEN♥']\n",
      "Player 2 drew card NINE♠\n",
      "Player 3 played cards ['TWO♦']\n",
      "Player 3 drew card JOKER\n",
      "Player 1 played cards ['FIVE♥']\n",
      "Turn 12\n",
      "Player 2 played cards ['THREE♣']\n",
      "Player 3 played cards ['SIX♥']\n",
      "Player 1 played cards ['FOUR♥']\n",
      "Turn 13\n",
      "Player 2 played cards ['THREE♠']\n",
      "Player 3 played cards ['NINE♦']\n",
      "Player 1 called Dhumbal\n",
      "Turn 14\n",
      "Starting Round 1\n",
      "Current Scores: {<player.Player object at 0x00000206B1A1B340>: 20, <player.Player object at 0x00000206B1A1BC40>: 19, <player.Player object at 0x00000206B1A1BBB0>: 10}\n"
     ]
    },
    {
     "ename": "KeyboardInterrupt",
     "evalue": "Interrupted by user",
     "output_type": "error",
     "traceback": [
      "\u001b[1;31m---------------------------------------------------------------------------\u001b[0m",
      "\u001b[1;31mKeyboardInterrupt\u001b[0m                         Traceback (most recent call last)",
      "Cell \u001b[1;32mIn[3], line 1\u001b[0m\n\u001b[1;32m----> 1\u001b[0m \u001b[43mgame\u001b[49m\u001b[38;5;241;43m.\u001b[39;49m\u001b[43mstart_game\u001b[49m\u001b[43m(\u001b[49m\u001b[43m)\u001b[49m\n",
      "File \u001b[1;32mc:\\Users\\mariu\\Documents\\dhumbal-montecarlo\\dhumbal-simulations\\notebooks\\../src\\game.py:26\u001b[0m, in \u001b[0;36mGame.start_game\u001b[1;34m(self)\u001b[0m\n\u001b[0;32m     24\u001b[0m     \u001b[38;5;28mself\u001b[39m\u001b[38;5;241m.\u001b[39mgame_over \u001b[38;5;241m=\u001b[39m \u001b[38;5;28;01mTrue\u001b[39;00m\n\u001b[0;32m     25\u001b[0m \u001b[38;5;28;01melse\u001b[39;00m:\n\u001b[1;32m---> 26\u001b[0m     \u001b[38;5;28;43mself\u001b[39;49m\u001b[38;5;241;43m.\u001b[39;49m\u001b[43mprepare_next_round\u001b[49m\u001b[43m(\u001b[49m\u001b[43m)\u001b[49m\n",
      "File \u001b[1;32mc:\\Users\\mariu\\Documents\\dhumbal-montecarlo\\dhumbal-simulations\\notebooks\\../src\\game.py:83\u001b[0m, in \u001b[0;36mGame.prepare_next_round\u001b[1;34m(self)\u001b[0m\n\u001b[0;32m     81\u001b[0m \u001b[38;5;28mprint\u001b[39m(\u001b[38;5;124m\"\u001b[39m\u001b[38;5;124mStarting Round\u001b[39m\u001b[38;5;124m\"\u001b[39m, \u001b[38;5;28mself\u001b[39m\u001b[38;5;241m.\u001b[39mround)\n\u001b[0;32m     82\u001b[0m \u001b[38;5;28mprint\u001b[39m(\u001b[38;5;124m\"\u001b[39m\u001b[38;5;124mCurrent Scores:\u001b[39m\u001b[38;5;124m\"\u001b[39m, \u001b[38;5;28mself\u001b[39m\u001b[38;5;241m.\u001b[39mscoreboard\u001b[38;5;241m.\u001b[39mget_scores())    \n\u001b[1;32m---> 83\u001b[0m \u001b[38;5;28;43minput\u001b[39;49m\u001b[43m(\u001b[49m\u001b[38;5;124;43m\"\u001b[39;49m\u001b[38;5;124;43mPress Enter to continue...\u001b[39;49m\u001b[38;5;124;43m\"\u001b[39;49m\u001b[43m)\u001b[49m\n",
      "File \u001b[1;32mc:\\Users\\mariu\\Documents\\dhumbal-montecarlo\\dhumbal-simulations\\.venv\\lib\\site-packages\\ipykernel\\kernelbase.py:1262\u001b[0m, in \u001b[0;36mKernel.raw_input\u001b[1;34m(self, prompt)\u001b[0m\n\u001b[0;32m   1260\u001b[0m     msg \u001b[38;5;241m=\u001b[39m \u001b[38;5;124m\"\u001b[39m\u001b[38;5;124mraw_input was called, but this frontend does not support input requests.\u001b[39m\u001b[38;5;124m\"\u001b[39m\n\u001b[0;32m   1261\u001b[0m     \u001b[38;5;28;01mraise\u001b[39;00m StdinNotImplementedError(msg)\n\u001b[1;32m-> 1262\u001b[0m \u001b[38;5;28;01mreturn\u001b[39;00m \u001b[38;5;28;43mself\u001b[39;49m\u001b[38;5;241;43m.\u001b[39;49m\u001b[43m_input_request\u001b[49m\u001b[43m(\u001b[49m\n\u001b[0;32m   1263\u001b[0m \u001b[43m    \u001b[49m\u001b[38;5;28;43mstr\u001b[39;49m\u001b[43m(\u001b[49m\u001b[43mprompt\u001b[49m\u001b[43m)\u001b[49m\u001b[43m,\u001b[49m\n\u001b[0;32m   1264\u001b[0m \u001b[43m    \u001b[49m\u001b[38;5;28;43mself\u001b[39;49m\u001b[38;5;241;43m.\u001b[39;49m\u001b[43m_parent_ident\u001b[49m\u001b[43m[\u001b[49m\u001b[38;5;124;43m\"\u001b[39;49m\u001b[38;5;124;43mshell\u001b[39;49m\u001b[38;5;124;43m\"\u001b[39;49m\u001b[43m]\u001b[49m\u001b[43m,\u001b[49m\n\u001b[0;32m   1265\u001b[0m \u001b[43m    \u001b[49m\u001b[38;5;28;43mself\u001b[39;49m\u001b[38;5;241;43m.\u001b[39;49m\u001b[43mget_parent\u001b[49m\u001b[43m(\u001b[49m\u001b[38;5;124;43m\"\u001b[39;49m\u001b[38;5;124;43mshell\u001b[39;49m\u001b[38;5;124;43m\"\u001b[39;49m\u001b[43m)\u001b[49m\u001b[43m,\u001b[49m\n\u001b[0;32m   1266\u001b[0m \u001b[43m    \u001b[49m\u001b[43mpassword\u001b[49m\u001b[38;5;241;43m=\u001b[39;49m\u001b[38;5;28;43;01mFalse\u001b[39;49;00m\u001b[43m,\u001b[49m\n\u001b[0;32m   1267\u001b[0m \u001b[43m\u001b[49m\u001b[43m)\u001b[49m\n",
      "File \u001b[1;32mc:\\Users\\mariu\\Documents\\dhumbal-montecarlo\\dhumbal-simulations\\.venv\\lib\\site-packages\\ipykernel\\kernelbase.py:1305\u001b[0m, in \u001b[0;36mKernel._input_request\u001b[1;34m(self, prompt, ident, parent, password)\u001b[0m\n\u001b[0;32m   1302\u001b[0m \u001b[38;5;28;01mexcept\u001b[39;00m \u001b[38;5;167;01mKeyboardInterrupt\u001b[39;00m:\n\u001b[0;32m   1303\u001b[0m     \u001b[38;5;66;03m# re-raise KeyboardInterrupt, to truncate traceback\u001b[39;00m\n\u001b[0;32m   1304\u001b[0m     msg \u001b[38;5;241m=\u001b[39m \u001b[38;5;124m\"\u001b[39m\u001b[38;5;124mInterrupted by user\u001b[39m\u001b[38;5;124m\"\u001b[39m\n\u001b[1;32m-> 1305\u001b[0m     \u001b[38;5;28;01mraise\u001b[39;00m \u001b[38;5;167;01mKeyboardInterrupt\u001b[39;00m(msg) \u001b[38;5;28;01mfrom\u001b[39;00m \u001b[38;5;28;01mNone\u001b[39;00m\n\u001b[0;32m   1306\u001b[0m \u001b[38;5;28;01mexcept\u001b[39;00m \u001b[38;5;167;01mException\u001b[39;00m:\n\u001b[0;32m   1307\u001b[0m     \u001b[38;5;28mself\u001b[39m\u001b[38;5;241m.\u001b[39mlog\u001b[38;5;241m.\u001b[39mwarning(\u001b[38;5;124m\"\u001b[39m\u001b[38;5;124mInvalid Message:\u001b[39m\u001b[38;5;124m\"\u001b[39m, exc_info\u001b[38;5;241m=\u001b[39m\u001b[38;5;28;01mTrue\u001b[39;00m)\n",
      "\u001b[1;31mKeyboardInterrupt\u001b[0m: Interrupted by user"
     ]
    }
   ],
   "source": [
    "game.start_game()"
   ]
  },
  {
   "cell_type": "code",
   "execution_count": 4,
   "metadata": {},
   "outputs": [
    {
     "data": {
      "text/plain": [
       "[{<player.Player at 0x206b1a1b340>: (5, <Result.GOT_DESTROYED: 1>),\n",
       "  <player.Player at 0x206b1a1bc40>: (19, <Result.NORMAL: 3>),\n",
       "  <player.Player at 0x206b1a1bbb0>: (10, <Result.NORMAL: 3>)}]"
      ]
     },
     "execution_count": 4,
     "metadata": {},
     "output_type": "execute_result"
    }
   ],
   "source": [
    "game.scoreboard.round_log"
   ]
  },
  {
   "cell_type": "code",
   "execution_count": 7,
   "metadata": {},
   "outputs": [
    {
     "data": {
      "text/plain": [
       "0"
      ]
     },
     "execution_count": 7,
     "metadata": {},
     "output_type": "execute_result"
    }
   ],
   "source": [
    "game.players[0].calculate_score()"
   ]
  },
  {
   "cell_type": "code",
   "execution_count": 10,
   "metadata": {},
   "outputs": [
    {
     "name": "stdout",
     "output_type": "stream",
     "text": [
      "Player 1 drew card SIX♦\n",
      "Player 2 drew card SIX♣\n",
      "Player 3 drew card SEVEN♦\n",
      "Player 1 drew card SIX♥\n",
      "Player 2 drew card TEN♠\n",
      "Player 3 drew card JOKER\n",
      "Player 1 drew card NINE♥\n",
      "Player 2 drew card FIVE♣\n",
      "Player 3 drew card FOUR♣\n",
      "Player 1 drew card EIGHT♥\n",
      "Player 2 drew card TWO♦\n",
      "Player 3 drew card TEN♣\n",
      "Player 1 drew card FOUR♠\n",
      "Player 2 drew card JOKER\n",
      "Player 3 drew card TWO♣\n"
     ]
    }
   ],
   "source": [
    "game.deal_cards()"
   ]
  },
  {
   "cell_type": "code",
   "execution_count": 13,
   "metadata": {},
   "outputs": [],
   "source": [
    "players[0].called_dhumbal = True"
   ]
  },
  {
   "cell_type": "code",
   "execution_count": 16,
   "metadata": {},
   "outputs": [],
   "source": [
    "game.scoreboard.record_round(game)"
   ]
  },
  {
   "cell_type": "code",
   "execution_count": 17,
   "metadata": {},
   "outputs": [
    {
     "data": {
      "text/plain": [
       "{<player.Player at 0x206b1a1b340>: 60,\n",
       " <player.Player at 0x206b1a1bc40>: 65,\n",
       " <player.Player at 0x206b1a1bbb0>: 56}"
      ]
     },
     "execution_count": 17,
     "metadata": {},
     "output_type": "execute_result"
    }
   ],
   "source": [
    "game.scoreboard.scores"
   ]
  },
  {
   "cell_type": "code",
   "execution_count": 22,
   "metadata": {},
   "outputs": [
    {
     "name": "stdout",
     "output_type": "stream",
     "text": [
      "Starting Round 2\n",
      "Current Scores: {<player.Player object at 0x00000206B1A1B340>: 60, <player.Player object at 0x00000206B1A1BC40>: 65, <player.Player object at 0x00000206B1A1BBB0>: 56}\n"
     ]
    },
    {
     "ename": "KeyboardInterrupt",
     "evalue": "Interrupted by user",
     "output_type": "error",
     "traceback": [
      "\u001b[1;31m---------------------------------------------------------------------------\u001b[0m",
      "\u001b[1;31mKeyboardInterrupt\u001b[0m                         Traceback (most recent call last)",
      "Cell \u001b[1;32mIn[22], line 1\u001b[0m\n\u001b[1;32m----> 1\u001b[0m \u001b[43mgame\u001b[49m\u001b[38;5;241;43m.\u001b[39;49m\u001b[43mprepare_next_round\u001b[49m\u001b[43m(\u001b[49m\u001b[43m)\u001b[49m\n",
      "File \u001b[1;32mc:\\Users\\mariu\\Documents\\dhumbal-montecarlo\\dhumbal-simulations\\notebooks\\../src\\game.py:83\u001b[0m, in \u001b[0;36mGame.prepare_next_round\u001b[1;34m(self)\u001b[0m\n\u001b[0;32m     81\u001b[0m \u001b[38;5;28mprint\u001b[39m(\u001b[38;5;124m\"\u001b[39m\u001b[38;5;124mStarting Round\u001b[39m\u001b[38;5;124m\"\u001b[39m, \u001b[38;5;28mself\u001b[39m\u001b[38;5;241m.\u001b[39mround)\n\u001b[0;32m     82\u001b[0m \u001b[38;5;28mprint\u001b[39m(\u001b[38;5;124m\"\u001b[39m\u001b[38;5;124mCurrent Scores:\u001b[39m\u001b[38;5;124m\"\u001b[39m, \u001b[38;5;28mself\u001b[39m\u001b[38;5;241m.\u001b[39mscoreboard\u001b[38;5;241m.\u001b[39mget_scores())    \n\u001b[1;32m---> 83\u001b[0m \u001b[38;5;28;43minput\u001b[39;49m\u001b[43m(\u001b[49m\u001b[38;5;124;43m\"\u001b[39;49m\u001b[38;5;124;43mPress Enter to continue...\u001b[39;49m\u001b[38;5;124;43m\"\u001b[39;49m\u001b[43m)\u001b[49m\n",
      "File \u001b[1;32mc:\\Users\\mariu\\Documents\\dhumbal-montecarlo\\dhumbal-simulations\\.venv\\lib\\site-packages\\ipykernel\\kernelbase.py:1262\u001b[0m, in \u001b[0;36mKernel.raw_input\u001b[1;34m(self, prompt)\u001b[0m\n\u001b[0;32m   1260\u001b[0m     msg \u001b[38;5;241m=\u001b[39m \u001b[38;5;124m\"\u001b[39m\u001b[38;5;124mraw_input was called, but this frontend does not support input requests.\u001b[39m\u001b[38;5;124m\"\u001b[39m\n\u001b[0;32m   1261\u001b[0m     \u001b[38;5;28;01mraise\u001b[39;00m StdinNotImplementedError(msg)\n\u001b[1;32m-> 1262\u001b[0m \u001b[38;5;28;01mreturn\u001b[39;00m \u001b[38;5;28;43mself\u001b[39;49m\u001b[38;5;241;43m.\u001b[39;49m\u001b[43m_input_request\u001b[49m\u001b[43m(\u001b[49m\n\u001b[0;32m   1263\u001b[0m \u001b[43m    \u001b[49m\u001b[38;5;28;43mstr\u001b[39;49m\u001b[43m(\u001b[49m\u001b[43mprompt\u001b[49m\u001b[43m)\u001b[49m\u001b[43m,\u001b[49m\n\u001b[0;32m   1264\u001b[0m \u001b[43m    \u001b[49m\u001b[38;5;28;43mself\u001b[39;49m\u001b[38;5;241;43m.\u001b[39;49m\u001b[43m_parent_ident\u001b[49m\u001b[43m[\u001b[49m\u001b[38;5;124;43m\"\u001b[39;49m\u001b[38;5;124;43mshell\u001b[39;49m\u001b[38;5;124;43m\"\u001b[39;49m\u001b[43m]\u001b[49m\u001b[43m,\u001b[49m\n\u001b[0;32m   1265\u001b[0m \u001b[43m    \u001b[49m\u001b[38;5;28;43mself\u001b[39;49m\u001b[38;5;241;43m.\u001b[39;49m\u001b[43mget_parent\u001b[49m\u001b[43m(\u001b[49m\u001b[38;5;124;43m\"\u001b[39;49m\u001b[38;5;124;43mshell\u001b[39;49m\u001b[38;5;124;43m\"\u001b[39;49m\u001b[43m)\u001b[49m\u001b[43m,\u001b[49m\n\u001b[0;32m   1266\u001b[0m \u001b[43m    \u001b[49m\u001b[43mpassword\u001b[49m\u001b[38;5;241;43m=\u001b[39;49m\u001b[38;5;28;43;01mFalse\u001b[39;49;00m\u001b[43m,\u001b[49m\n\u001b[0;32m   1267\u001b[0m \u001b[43m\u001b[49m\u001b[43m)\u001b[49m\n",
      "File \u001b[1;32mc:\\Users\\mariu\\Documents\\dhumbal-montecarlo\\dhumbal-simulations\\.venv\\lib\\site-packages\\ipykernel\\kernelbase.py:1305\u001b[0m, in \u001b[0;36mKernel._input_request\u001b[1;34m(self, prompt, ident, parent, password)\u001b[0m\n\u001b[0;32m   1302\u001b[0m \u001b[38;5;28;01mexcept\u001b[39;00m \u001b[38;5;167;01mKeyboardInterrupt\u001b[39;00m:\n\u001b[0;32m   1303\u001b[0m     \u001b[38;5;66;03m# re-raise KeyboardInterrupt, to truncate traceback\u001b[39;00m\n\u001b[0;32m   1304\u001b[0m     msg \u001b[38;5;241m=\u001b[39m \u001b[38;5;124m\"\u001b[39m\u001b[38;5;124mInterrupted by user\u001b[39m\u001b[38;5;124m\"\u001b[39m\n\u001b[1;32m-> 1305\u001b[0m     \u001b[38;5;28;01mraise\u001b[39;00m \u001b[38;5;167;01mKeyboardInterrupt\u001b[39;00m(msg) \u001b[38;5;28;01mfrom\u001b[39;00m \u001b[38;5;28;01mNone\u001b[39;00m\n\u001b[0;32m   1306\u001b[0m \u001b[38;5;28;01mexcept\u001b[39;00m \u001b[38;5;167;01mException\u001b[39;00m:\n\u001b[0;32m   1307\u001b[0m     \u001b[38;5;28mself\u001b[39m\u001b[38;5;241m.\u001b[39mlog\u001b[38;5;241m.\u001b[39mwarning(\u001b[38;5;124m\"\u001b[39m\u001b[38;5;124mInvalid Message:\u001b[39m\u001b[38;5;124m\"\u001b[39m, exc_info\u001b[38;5;241m=\u001b[39m\u001b[38;5;28;01mTrue\u001b[39;00m)\n",
      "\u001b[1;31mKeyboardInterrupt\u001b[0m: Interrupted by user"
     ]
    }
   ],
   "source": [
    "game.prepare_next_round(\n",
    "    \n",
    ")"
   ]
  },
  {
   "cell_type": "code",
   "execution_count": null,
   "metadata": {},
   "outputs": [],
   "source": []
  }
 ],
 "metadata": {
  "kernelspec": {
   "display_name": ".venv",
   "language": "python",
   "name": "python3"
  },
  "language_info": {
   "codemirror_mode": {
    "name": "ipython",
    "version": 3
   },
   "file_extension": ".py",
   "mimetype": "text/x-python",
   "name": "python",
   "nbconvert_exporter": "python",
   "pygments_lexer": "ipython3",
   "version": "3.9.13"
  }
 },
 "nbformat": 4,
 "nbformat_minor": 2
}
